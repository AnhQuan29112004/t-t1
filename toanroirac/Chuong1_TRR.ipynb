{
 "cells": [
  {
   "cell_type": "code",
   "execution_count": 53,
   "metadata": {},
   "outputs": [
    {
     "name": "stdout",
     "output_type": "stream",
     "text": [
      "12\n"
     ]
    }
   ],
   "source": [
    "# 1.1 Quy tắc cộng, nhân\n",
    "# 1.7\n",
    "m,n = 4,3\n",
    "counter = 0\n",
    "for i in range(1, m + 1):\n",
    "  for j in range(1, n + 1):\n",
    "    counter += 1\n",
    "print(counter)"
   ]
  },
  {
   "cell_type": "code",
   "execution_count": 1,
   "metadata": {},
   "outputs": [
    {
     "name": "stdout",
     "output_type": "stream",
     "text": [
      "10\n"
     ]
    }
   ],
   "source": [
    "# 1.8\n",
    "n = 4\n",
    "counter = 0\n",
    "for i in range(1, n + 1):\n",
    "  for j in range(1, i + 1):\n",
    "    counter += 1\n",
    "\n",
    "print(counter)"
   ]
  },
  {
   "cell_type": "code",
   "execution_count": 6,
   "metadata": {},
   "outputs": [
    {
     "data": {
      "text/latex": [
       "$\\displaystyle \\frac{n \\left(n + 1\\right)}{2}$"
      ],
      "text/plain": [
       "n*(n + 1)/2"
      ]
     },
     "execution_count": 6,
     "metadata": {},
     "output_type": "execute_result"
    }
   ],
   "source": [
    "\n",
    "from sympy import *\n",
    "\n",
    "n,i = symbols('n, i')\n",
    "Sum(i, (i, 1, n)).doit().simplify()"
   ]
  },
  {
   "cell_type": "code",
   "execution_count": 55,
   "metadata": {},
   "outputs": [],
   "source": [
    "# 1.9 Nhân hai ma trận\n",
    "A = [[2, 0, -1],\n",
    "      [1, 3, -2]]\n",
    "B = [[0, -1, 1, 0],\n",
    "     [2, 3, -1, 4],\n",
    "     [-3, 0, -2, 1]]"
   ]
  },
  {
   "cell_type": "code",
   "execution_count": 56,
   "metadata": {},
   "outputs": [
    {
     "data": {
      "text/plain": [
       "array([[ 3, -2,  4, -1],\n",
       "       [12,  8,  2, 10]])"
      ]
     },
     "execution_count": 56,
     "metadata": {},
     "output_type": "execute_result"
    }
   ],
   "source": [
    "import numpy as np\n",
    "\n",
    "np.dot(A, B)"
   ]
  },
  {
   "cell_type": "code",
   "execution_count": 11,
   "metadata": {},
   "outputs": [
    {
     "data": {
      "text/plain": [
       "[2, 5, 7, 8, 9]"
      ]
     },
     "execution_count": 11,
     "metadata": {},
     "output_type": "execute_result"
    }
   ],
   "source": [
    "# 1.10 Sắp xếp\n",
    "def BubbleSort (x):\n",
    "  n = len(x)\n",
    "  for i in range(n - 1):\n",
    "    for j in range(n - 1, i, -1):\n",
    "      if x[j] < x[j - 1]:\n",
    "        x[j - 1], x[j] = x[j], x[j - 1]\n",
    "  return x\n",
    "\n",
    "BubbleSort([7, 9, 2, 5, 8])"
   ]
  },
  {
   "cell_type": "code",
   "execution_count": 15,
   "metadata": {},
   "outputs": [
    {
     "data": {
      "text/latex": [
       "$\\displaystyle 5040$"
      ],
      "text/plain": [
       "5040"
      ]
     },
     "execution_count": 15,
     "metadata": {},
     "output_type": "execute_result"
    }
   ],
   "source": [
    "# 1.2 Hoán vị, chỉnh hợp\n",
    "# 1.13. Giai thừa\n",
    "from sympy import *\n",
    "factorial(7)"
   ]
  },
  {
   "cell_type": "code",
   "execution_count": 20,
   "metadata": {},
   "outputs": [
    {
     "data": {
      "text/plain": [
       "('b', 'd', 'c')"
      ]
     },
     "execution_count": 20,
     "metadata": {},
     "output_type": "execute_result"
    }
   ],
   "source": [
    "# 1.14 Hoán vị\n",
    "import itertools\n",
    "list(itertools.permutations(['a','b','c','d','e'],3))[19]"
   ]
  },
  {
   "cell_type": "code",
   "execution_count": 27,
   "metadata": {},
   "outputs": [
    {
     "data": {
      "text/plain": [
       "(0, 1, 0, 0, 1, 0, 0)"
      ]
     },
     "execution_count": 27,
     "metadata": {},
     "output_type": "execute_result"
    }
   ],
   "source": [
    "# 1.15 Chuỗi nhị phân\n",
    "import itertools\n",
    "(list(itertools.product([0, 1], repeat = 7)))[36]\n"
   ]
  },
  {
   "cell_type": "code",
   "execution_count": 1,
   "metadata": {},
   "outputs": [
    {
     "data": {
      "text/latex": [
       "$\\displaystyle 20274183401472000$"
      ],
      "text/plain": [
       "20274183401472000"
      ]
     },
     "execution_count": 1,
     "metadata": {},
     "output_type": "execute_result"
    }
   ],
   "source": [
    "# 1.16 Chỉnh hợp chập r của n phần tử\n",
    "from sympy import *\n",
    "n, r = 19, 16\n",
    "factorial(n) / factorial(n - r)"
   ]
  },
  {
   "cell_type": "code",
   "execution_count": 33,
   "metadata": {},
   "outputs": [
    {
     "data": {
      "text/plain": [
       "('a', 'c', 'e', 'b', 'd')"
      ]
     },
     "execution_count": 33,
     "metadata": {},
     "output_type": "execute_result"
    }
   ],
   "source": [
    "# 1.17\n",
    "import itertools\n",
    "(list(itertools.permutations(['a','b','c','d','e'])))[10]\n",
    "# for i in range(len(a)):\n",
    "#     if a[i] == (2, 6, 5, 4, 3, 1):a[i+1]\n",
    "#     else:break"
   ]
  },
  {
   "cell_type": "code",
   "execution_count": 24,
   "metadata": {},
   "outputs": [
    {
     "data": {
      "text/latex": [
       "$\\displaystyle 56$"
      ],
      "text/plain": [
       "56"
      ]
     },
     "execution_count": 24,
     "metadata": {},
     "output_type": "execute_result"
    }
   ],
   "source": [
    "#1.3 Tổ hợp chập r của n phần tử\n",
    "#1.18\n",
    "from sympy import *\n",
    "binomial(12, 10)-binomial(5,3)"
   ]
  },
  {
   "cell_type": "code",
   "execution_count": 6,
   "metadata": {},
   "outputs": [
    {
     "data": {
      "text/plain": [
       "('b', 'e')"
      ]
     },
     "execution_count": 6,
     "metadata": {},
     "output_type": "execute_result"
    }
   ],
   "source": [
    "#1.19\n",
    "import itertools\n",
    "(list(itertools.combinations(['a','b','c','d','e','f'], 2)))[7]"
   ]
  },
  {
   "cell_type": "code",
   "execution_count": 22,
   "metadata": {},
   "outputs": [
    {
     "data": {
      "text/latex": [
       "$\\displaystyle x^{2} + 2 x y + y^{2}$"
      ],
      "text/plain": [
       "x**2 + 2*x*y + y**2"
      ]
     },
     "execution_count": 22,
     "metadata": {},
     "output_type": "execute_result"
    }
   ],
   "source": [
    "# 1.21\n",
    "from sympy import *\n",
    "\n",
    "x, y = symbols('x y')\n",
    "( (x + y) ** 2).expand()"
   ]
  },
  {
   "cell_type": "code",
   "execution_count": 6,
   "metadata": {},
   "outputs": [
    {
     "data": {
      "text/plain": [
       "210"
      ]
     },
     "execution_count": 6,
     "metadata": {},
     "output_type": "execute_result"
    }
   ],
   "source": [
    "#1.22\n",
    "def binomial(n, r):\n",
    "    if r == 0 or r == n :\n",
    "        return 1\n",
    "    return binomial(n-1, r-1) + binomial(n-1, r)\n",
    "\n",
    "binomial(10, 4)"
   ]
  },
  {
   "cell_type": "code",
   "execution_count": 7,
   "metadata": {},
   "outputs": [
    {
     "data": {
      "text/plain": [
       "210"
      ]
     },
     "execution_count": 7,
     "metadata": {},
     "output_type": "execute_result"
    }
   ],
   "source": [
    "#1.2\n",
    "def binomial(n, r):\n",
    "  a = [1]\n",
    "  for i in range(1, n + 1):\n",
    "    for j in range(i - 1, 0, -1):\n",
    "      a[j] += a[j - 1]\n",
    "    a.append(1)\n",
    "  return a[r]\n",
    "\n",
    "# Ví dụ\n",
    "binomial(10, 4)"
   ]
  },
  {
   "cell_type": "code",
   "execution_count": 31,
   "metadata": {},
   "outputs": [
    {
     "data": {
      "text/plain": [
       "['a', 'b', 'b', 'c', 'c', 'a', 'c']"
      ]
     },
     "execution_count": 31,
     "metadata": {},
     "output_type": "execute_result"
    }
   ],
   "source": [
    "#1.4 Hoán vị lặp\n",
    "#1.23\n",
    "def permutations_with_replacement(a, n):\n",
    "  r = len(a)\n",
    "  if sum(n) == 0:\n",
    "    return [[]]\n",
    "  P = []\n",
    "  for i in range(r):\n",
    "    if n[i] > 0:\n",
    "      n_ = n.copy()\n",
    "      n_[i] -= 1\n",
    "      for p in permutations_with_replacement(a, n_):\n",
    "        p = [a[i]] + p\n",
    "        P.append(p)\n",
    "  return P\n",
    "\n",
    "(permutations_with_replacement(['a', 'b', 'c'], [2, 2, 3]))[16]"
   ]
  },
  {
   "cell_type": "code",
   "execution_count": 76,
   "metadata": {},
   "outputs": [],
   "source": [
    "#1.24\n",
    "def walks(a, b, x, y):\n",
    "  if a == x:\n",
    "    return ['U' * (y - b)]\n",
    "  if b == y:\n",
    "    return ('R' * (x - a))\n",
    "  W = []\n",
    "  for w in walks(a + 1, b, x, y):\n",
    "    W.append('R' + w)\n",
    "  for w in walks(a, b + 1, x, y):\n",
    "    W.append('U' + w)\n",
    "  return W"
   ]
  },
  {
   "cell_type": "code",
   "execution_count": 12,
   "metadata": {},
   "outputs": [
    {
     "data": {
      "text/latex": [
       "$\\displaystyle x^{7} + 7 x^{6} y + 7 x^{6} z + 21 x^{5} y^{2} + 42 x^{5} y z + 21 x^{5} z^{2} + 35 x^{4} y^{3} + 105 x^{4} y^{2} z + 105 x^{4} y z^{2} + 35 x^{4} z^{3} + 35 x^{3} y^{4} + 140 x^{3} y^{3} z + 210 x^{3} y^{2} z^{2} + 140 x^{3} y z^{3} + 35 x^{3} z^{4} + 21 x^{2} y^{5} + 105 x^{2} y^{4} z + 210 x^{2} y^{3} z^{2} + 210 x^{2} y^{2} z^{3} + 105 x^{2} y z^{4} + 21 x^{2} z^{5} + 7 x y^{6} + 42 x y^{5} z + 105 x y^{4} z^{2} + 140 x y^{3} z^{3} + 105 x y^{2} z^{4} + 42 x y z^{5} + 7 x z^{6} + y^{7} + 7 y^{6} z + 21 y^{5} z^{2} + 35 y^{4} z^{3} + 35 y^{3} z^{4} + 21 y^{2} z^{5} + 7 y z^{6} + z^{7}$"
      ],
      "text/plain": [
       "x**7 + 7*x**6*y + 7*x**6*z + 21*x**5*y**2 + 42*x**5*y*z + 21*x**5*z**2 + 35*x**4*y**3 + 105*x**4*y**2*z + 105*x**4*y*z**2 + 35*x**4*z**3 + 35*x**3*y**4 + 140*x**3*y**3*z + 210*x**3*y**2*z**2 + 140*x**3*y*z**3 + 35*x**3*z**4 + 21*x**2*y**5 + 105*x**2*y**4*z + 210*x**2*y**3*z**2 + 210*x**2*y**2*z**3 + 105*x**2*y*z**4 + 21*x**2*z**5 + 7*x*y**6 + 42*x*y**5*z + 105*x*y**4*z**2 + 140*x*y**3*z**3 + 105*x*y**2*z**4 + 42*x*y*z**5 + 7*x*z**6 + y**7 + 7*y**6*z + 21*y**5*z**2 + 35*y**4*z**3 + 35*y**3*z**4 + 21*y**2*z**5 + 7*y*z**6 + z**7"
      ]
     },
     "execution_count": 12,
     "metadata": {},
     "output_type": "execute_result"
    }
   ],
   "source": [
    "#1.25\n",
    "from sympy import *\n",
    "\n",
    "x, y, z = symbols('x y z')\n",
    "( (x + y + z) ** 7 ).expand()\n",
    "#((x + y + z) ** 7).expand().coeff(x * y ** 5 * z) #ham coeff() là lấy số hạng đứng trước xy^5z"
   ]
  },
  {
   "cell_type": "code",
   "execution_count": 40,
   "metadata": {},
   "outputs": [
    {
     "data": {
      "text/plain": [
       "[('X', 'X', 'X', 'X', 'X', 'X', 'X', 'X', 'X', 'X'),\n",
       " ('X', 'X', 'X', 'X', 'X', 'X', 'X', 'X', 'X', 'D'),\n",
       " ('X', 'X', 'X', 'X', 'X', 'X', 'X', 'X', 'X', 'V'),\n",
       " ('X', 'X', 'X', 'X', 'X', 'X', 'X', 'X', 'D', 'D'),\n",
       " ('X', 'X', 'X', 'X', 'X', 'X', 'X', 'X', 'D', 'V'),\n",
       " ('X', 'X', 'X', 'X', 'X', 'X', 'X', 'X', 'V', 'V'),\n",
       " ('X', 'X', 'X', 'X', 'X', 'X', 'X', 'D', 'D', 'D'),\n",
       " ('X', 'X', 'X', 'X', 'X', 'X', 'X', 'D', 'D', 'V'),\n",
       " ('X', 'X', 'X', 'X', 'X', 'X', 'X', 'D', 'V', 'V'),\n",
       " ('X', 'X', 'X', 'X', 'X', 'X', 'X', 'V', 'V', 'V'),\n",
       " ('X', 'X', 'X', 'X', 'X', 'X', 'D', 'D', 'D', 'D'),\n",
       " ('X', 'X', 'X', 'X', 'X', 'X', 'D', 'D', 'D', 'V'),\n",
       " ('X', 'X', 'X', 'X', 'X', 'X', 'D', 'D', 'V', 'V'),\n",
       " ('X', 'X', 'X', 'X', 'X', 'X', 'D', 'V', 'V', 'V'),\n",
       " ('X', 'X', 'X', 'X', 'X', 'X', 'V', 'V', 'V', 'V'),\n",
       " ('X', 'X', 'X', 'X', 'X', 'D', 'D', 'D', 'D', 'D'),\n",
       " ('X', 'X', 'X', 'X', 'X', 'D', 'D', 'D', 'D', 'V'),\n",
       " ('X', 'X', 'X', 'X', 'X', 'D', 'D', 'D', 'V', 'V'),\n",
       " ('X', 'X', 'X', 'X', 'X', 'D', 'D', 'V', 'V', 'V'),\n",
       " ('X', 'X', 'X', 'X', 'X', 'D', 'V', 'V', 'V', 'V'),\n",
       " ('X', 'X', 'X', 'X', 'X', 'V', 'V', 'V', 'V', 'V'),\n",
       " ('X', 'X', 'X', 'X', 'D', 'D', 'D', 'D', 'D', 'D'),\n",
       " ('X', 'X', 'X', 'X', 'D', 'D', 'D', 'D', 'D', 'V'),\n",
       " ('X', 'X', 'X', 'X', 'D', 'D', 'D', 'D', 'V', 'V'),\n",
       " ('X', 'X', 'X', 'X', 'D', 'D', 'D', 'V', 'V', 'V'),\n",
       " ('X', 'X', 'X', 'X', 'D', 'D', 'V', 'V', 'V', 'V'),\n",
       " ('X', 'X', 'X', 'X', 'D', 'V', 'V', 'V', 'V', 'V'),\n",
       " ('X', 'X', 'X', 'X', 'V', 'V', 'V', 'V', 'V', 'V'),\n",
       " ('X', 'X', 'X', 'D', 'D', 'D', 'D', 'D', 'D', 'D'),\n",
       " ('X', 'X', 'X', 'D', 'D', 'D', 'D', 'D', 'D', 'V'),\n",
       " ('X', 'X', 'X', 'D', 'D', 'D', 'D', 'D', 'V', 'V'),\n",
       " ('X', 'X', 'X', 'D', 'D', 'D', 'D', 'V', 'V', 'V'),\n",
       " ('X', 'X', 'X', 'D', 'D', 'D', 'V', 'V', 'V', 'V'),\n",
       " ('X', 'X', 'X', 'D', 'D', 'V', 'V', 'V', 'V', 'V'),\n",
       " ('X', 'X', 'X', 'D', 'V', 'V', 'V', 'V', 'V', 'V'),\n",
       " ('X', 'X', 'X', 'V', 'V', 'V', 'V', 'V', 'V', 'V'),\n",
       " ('X', 'X', 'D', 'D', 'D', 'D', 'D', 'D', 'D', 'D'),\n",
       " ('X', 'X', 'D', 'D', 'D', 'D', 'D', 'D', 'D', 'V'),\n",
       " ('X', 'X', 'D', 'D', 'D', 'D', 'D', 'D', 'V', 'V'),\n",
       " ('X', 'X', 'D', 'D', 'D', 'D', 'D', 'V', 'V', 'V'),\n",
       " ('X', 'X', 'D', 'D', 'D', 'D', 'V', 'V', 'V', 'V'),\n",
       " ('X', 'X', 'D', 'D', 'D', 'V', 'V', 'V', 'V', 'V'),\n",
       " ('X', 'X', 'D', 'D', 'V', 'V', 'V', 'V', 'V', 'V'),\n",
       " ('X', 'X', 'D', 'V', 'V', 'V', 'V', 'V', 'V', 'V'),\n",
       " ('X', 'X', 'V', 'V', 'V', 'V', 'V', 'V', 'V', 'V'),\n",
       " ('X', 'D', 'D', 'D', 'D', 'D', 'D', 'D', 'D', 'D'),\n",
       " ('X', 'D', 'D', 'D', 'D', 'D', 'D', 'D', 'D', 'V'),\n",
       " ('X', 'D', 'D', 'D', 'D', 'D', 'D', 'D', 'V', 'V'),\n",
       " ('X', 'D', 'D', 'D', 'D', 'D', 'D', 'V', 'V', 'V'),\n",
       " ('X', 'D', 'D', 'D', 'D', 'D', 'V', 'V', 'V', 'V'),\n",
       " ('X', 'D', 'D', 'D', 'D', 'V', 'V', 'V', 'V', 'V'),\n",
       " ('X', 'D', 'D', 'D', 'V', 'V', 'V', 'V', 'V', 'V'),\n",
       " ('X', 'D', 'D', 'V', 'V', 'V', 'V', 'V', 'V', 'V'),\n",
       " ('X', 'D', 'V', 'V', 'V', 'V', 'V', 'V', 'V', 'V'),\n",
       " ('X', 'V', 'V', 'V', 'V', 'V', 'V', 'V', 'V', 'V'),\n",
       " ('D', 'D', 'D', 'D', 'D', 'D', 'D', 'D', 'D', 'D'),\n",
       " ('D', 'D', 'D', 'D', 'D', 'D', 'D', 'D', 'D', 'V'),\n",
       " ('D', 'D', 'D', 'D', 'D', 'D', 'D', 'D', 'V', 'V'),\n",
       " ('D', 'D', 'D', 'D', 'D', 'D', 'D', 'V', 'V', 'V'),\n",
       " ('D', 'D', 'D', 'D', 'D', 'D', 'V', 'V', 'V', 'V'),\n",
       " ('D', 'D', 'D', 'D', 'D', 'V', 'V', 'V', 'V', 'V'),\n",
       " ('D', 'D', 'D', 'D', 'V', 'V', 'V', 'V', 'V', 'V'),\n",
       " ('D', 'D', 'D', 'V', 'V', 'V', 'V', 'V', 'V', 'V'),\n",
       " ('D', 'D', 'V', 'V', 'V', 'V', 'V', 'V', 'V', 'V'),\n",
       " ('D', 'V', 'V', 'V', 'V', 'V', 'V', 'V', 'V', 'V'),\n",
       " ('V', 'V', 'V', 'V', 'V', 'V', 'V', 'V', 'V', 'V')]"
      ]
     },
     "execution_count": 40,
     "metadata": {},
     "output_type": "execute_result"
    }
   ],
   "source": [
    "#1.5 Tổ hợp lặp\n",
    "#1.26\n",
    "import itertools\n",
    "(list(itertools.combinations_with_replacement(['X', 'D', 'V'], 10)))"
   ]
  },
  {
   "cell_type": "code",
   "execution_count": 14,
   "metadata": {},
   "outputs": [
    {
     "data": {
      "text/plain": [
       "[[0, 0, 2],\n",
       " [0, 1, 2],\n",
       " [0, 2, 2],\n",
       " [0, 3, 2],\n",
       " [1, 0, 2],\n",
       " [1, 1, 2],\n",
       " [1, 2, 2],\n",
       " [1, 3, 2],\n",
       " [2, 0, 2],\n",
       " [2, 1, 2],\n",
       " [2, 2, 2],\n",
       " [2, 3, 2],\n",
       " [3, 0, 2],\n",
       " [3, 1, 2],\n",
       " [3, 2, 2],\n",
       " [3, 3, 2],\n",
       " [4, 0, 2],\n",
       " [4, 1, 2],\n",
       " [4, 2, 2],\n",
       " [4, 3, 2]]"
      ]
     },
     "execution_count": 14,
     "metadata": {},
     "output_type": "execute_result"
    }
   ],
   "source": [
    "#Tìm tổ hợp lặp của r phần tử nhưng chỉ chứa n phần tử\n",
    "def solutions(n , r):\n",
    "  if n == 1:\n",
    "    return [[r]]\n",
    "  S = []\n",
    "  for i in range(r + 1):\n",
    "    for s in solutions(n - 1, r - 1):\n",
    "      s = [i] + s\n",
    "      S.append(s)\n",
    "  return S\n",
    "\n",
    "solutions(3, 4)"
   ]
  },
  {
   "cell_type": "code",
   "execution_count": 16,
   "metadata": {},
   "outputs": [
    {
     "data": {
      "text/latex": [
       "$\\displaystyle 5005$"
      ],
      "text/plain": [
       "5005"
      ]
     },
     "execution_count": 16,
     "metadata": {},
     "output_type": "execute_result"
    }
   ],
   "source": [
    "# 1.29\n",
    "from sympy import *\n",
    "\n",
    "r = symbols('r')\n",
    "Sum(binomial(6 + r - 1, r), (r, 0, 9)).doit()"
   ]
  },
  {
   "cell_type": "code",
   "execution_count": 30,
   "metadata": {},
   "outputs": [
    {
     "data": {
      "text/plain": [
       "[4, 1, 2]"
      ]
     },
     "execution_count": 30,
     "metadata": {},
     "output_type": "execute_result"
    }
   ],
   "source": [
    "#1.30 tổng riêng\n",
    "def summands(n):\n",
    "  if n == 1:\n",
    "    return [[1]]\n",
    "  S = []\n",
    "  for i in range(1, n):\n",
    "    for s in summands(n - i):\n",
    "      s = [i] + s\n",
    "      S.append(s)\n",
    "  S.append([n])\n",
    "  return S\n",
    "\n",
    "(summands(7))[57]"
   ]
  },
  {
   "cell_type": "code",
   "execution_count": 18,
   "metadata": {},
   "outputs": [
    {
     "data": {
      "text/plain": [
       "'>'"
      ]
     },
     "execution_count": 18,
     "metadata": {},
     "output_type": "execute_result"
    }
   ],
   "source": [
    "#1.6 Sinh các hoán vị và tổ hợp\n",
    "#1.31\n",
    "def compare(a, b):\n",
    "  m, n = len(a), len(b)\n",
    "  i = 0\n",
    "  while i < m and i < n and a[i] == b[i]:\n",
    "    i += 1\n",
    "  if i == m == n:\n",
    "    return ('=')\n",
    "  if i == m < n:\n",
    "    return ('<')\n",
    "  if i == n < m:\n",
    "    return ('>')\n",
    "  if i < m and i < n:\n",
    "    if a[i] < b[i]:\n",
    "      return ('<')\n",
    "    else:\n",
    "      return ('>')\n",
    "\n",
    "#compare([4, 1, 2], [4, 1, 2, 3])\n",
    "compare([3, 1, 4], [3, 1, 2, 5])"
   ]
  },
  {
   "cell_type": "code",
   "execution_count": 21,
   "metadata": {},
   "outputs": [
    {
     "data": {
      "text/plain": [
       "[3, 1, 2, 4, 5, 6]"
      ]
     },
     "execution_count": 21,
     "metadata": {},
     "output_type": "execute_result"
    }
   ],
   "source": [
    "#1.32 Tìm hoán vị đứng sau\n",
    "def next_permutations(a):\n",
    "  n = len(a)\n",
    "  k = n - 1\n",
    "  while k >= 1 and a[k - 1] > a[k]:\n",
    "    k -= 1\n",
    "\n",
    "  if k == 0:\n",
    "    return None\n",
    "\n",
    "  i = n - 1\n",
    "  while a[i] < a[k - 1]:\n",
    "    i -= 1\n",
    "  a[k - 1], a[i] = a[i], a[k - 1]\n",
    "  b = a[k:]\n",
    "  b.reverse()\n",
    "  return a[:k] + b\n",
    "\n",
    "next_permutations([2,6,5,4,3,1])"
   ]
  },
  {
   "cell_type": "code",
   "execution_count": 28,
   "metadata": {},
   "outputs": [
    {
     "data": {
      "text/plain": [
       "[1, 3, 4, 5, 6]"
      ]
     },
     "execution_count": 28,
     "metadata": {},
     "output_type": "execute_result"
    }
   ],
   "source": [
    "# 1.33 Tìm tập con đứng sau (tổ hợp)\n",
    "def next_combinations(n, a):\n",
    "  r = len(a)\n",
    "  i = r - 1\n",
    "  while i >= 0 and a[i] == n - r + (i + 1):\n",
    "    i -= 1\n",
    "  if i == -1:\n",
    "    return None\n",
    "\n",
    "  return a[:i] + [a[i] + j for j in range(1, r-i+1)]\n",
    "\n",
    "next_combinations(9, [1,2,7,8,9])"
   ]
  },
  {
   "cell_type": "code",
   "execution_count": 1,
   "metadata": {},
   "outputs": [
    {
     "data": {
      "text/plain": [
       "[1, 0, 0, 0, 1, 0, 1, 0, 0, 0]"
      ]
     },
     "execution_count": 1,
     "metadata": {},
     "output_type": "execute_result"
    }
   ],
   "source": [
    "#1.34\n",
    "def next_bin_str(a):\n",
    "  n = len(a)\n",
    "  i = n - 1\n",
    "  while i >= 0 and a[i] == 1:\n",
    "    i -= 1\n",
    "  if i == -1:\n",
    "    return None\n",
    "  for j in range(i, n):\n",
    "    a[j] = 1-a[j]\n",
    "  return a\n",
    "\n",
    "a = [1,0,0,0,1,0,0,1,1,1]\n",
    "next_bin_str(a)"
   ]
  },
  {
   "cell_type": "code",
   "execution_count": 51,
   "metadata": {},
   "outputs": [
    {
     "data": {
      "text/plain": [
       "['RRRUUU', 'RRURUU', 'RRUURU', 'RURRUU', 'RURURU']"
      ]
     },
     "execution_count": 51,
     "metadata": {},
     "output_type": "execute_result"
    }
   ],
   "source": [
    "#1.7 Số Catalan\n",
    "#1.35\n",
    "def catalan_walks(a, b, n):\n",
    "  if a == n:\n",
    "    return ['U' * (n - b)]\n",
    "  W = []\n",
    "  if a == b:\n",
    "    for w in catalan_walks(a + 1, b, n):\n",
    "      w = 'R' + w\n",
    "      W.append(w)\n",
    "  if a > b:\n",
    "    for w in catalan_walks(a + 1, b, n):\n",
    "      w = 'R' + w\n",
    "      W.append(w)\n",
    "    for w in catalan_walks(a, b + 1, n):\n",
    "      w = 'U' + w\n",
    "      W.append(w)\n",
    "  return W\n",
    "\n",
    "catalan_walks(0, 0, 3)"
   ]
  },
  {
   "cell_type": "code",
   "execution_count": 52,
   "metadata": {},
   "outputs": [
    {
     "data": {
      "text/plain": [
       "[1, 1, 2, 5, 14, 42, 132, 429, 1430, 4862, 16796]"
      ]
     },
     "execution_count": 52,
     "metadata": {},
     "output_type": "execute_result"
    }
   ],
   "source": [
    "from sympy import *\n",
    "\n",
    "[binomial(2*n, n) / (n + 1) for n in range(11)]"
   ]
  },
  {
   "cell_type": "code",
   "execution_count": null,
   "metadata": {},
   "outputs": [],
   "source": [
    "import ttg\n",
    "ttg"
   ]
  }
 ],
 "metadata": {
  "kernelspec": {
   "display_name": "Python 3",
   "language": "python",
   "name": "python3"
  },
  "language_info": {
   "codemirror_mode": {
    "name": "ipython",
    "version": 3
   },
   "file_extension": ".py",
   "mimetype": "text/x-python",
   "name": "python",
   "nbconvert_exporter": "python",
   "pygments_lexer": "ipython3",
   "version": "3.11.8"
  }
 },
 "nbformat": 4,
 "nbformat_minor": 2
}
