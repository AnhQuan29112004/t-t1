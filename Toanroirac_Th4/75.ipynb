{
 "cells": [
  {
   "cell_type": "code",
   "execution_count": 1,
   "metadata": {},
   "outputs": [
    {
     "data": {
      "text/plain": [
       "{C1: 4, C2: -3, C3: 1}"
      ]
     },
     "execution_count": 1,
     "metadata": {},
     "output_type": "execute_result"
    }
   ],
   "source": [
    "from sympy import *\n",
    "\n",
    "x = symbols('x')\n",
    "P = x**3 - 3*x + 2\n",
    "P.factor()\n",
    "\n",
    "C1, C2, C3 = symbols('C1 C2 C3')\n",
    "n = symbols('n')\n",
    "ans = C1 + C2*n + (-2)**n * C3\n",
    "\n",
    "[ans.subs(n, i) for i in [0, 1, 2]]\n",
    "\n",
    "eqns = [ans.subs(n, i) - a for i, a in zip([0, 1, 2], [5, -1, 2])]\n",
    "solve(eqns)\n"
   ]
  },
  {
   "cell_type": "code",
   "execution_count": null,
   "metadata": {},
   "outputs": [],
   "source": []
  }
 ],
 "metadata": {
  "kernelspec": {
   "display_name": "Python 3",
   "language": "python",
   "name": "python3"
  },
  "language_info": {
   "codemirror_mode": {
    "name": "ipython",
    "version": 3
   },
   "file_extension": ".py",
   "mimetype": "text/x-python",
   "name": "python",
   "nbconvert_exporter": "python",
   "pygments_lexer": "ipython3",
   "version": "3.11.8"
  }
 },
 "nbformat": 4,
 "nbformat_minor": 2
}
